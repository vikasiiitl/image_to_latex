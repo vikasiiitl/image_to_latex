{
 "cells": [
  {
   "cell_type": "markdown",
   "metadata": {},
   "source": [
    "# Image to Latex using transformer architecture!"
   ]
  },
  {
   "cell_type": "markdown",
   "metadata": {},
   "source": [
    "## Introduction\n",
    "\n",
    "### Image to Markup\n",
    "\n",
    "This is a project to convert images of mathematical equations to latex markup. The project is based on the paper [Image to Latex](https://arxiv.org/abs/1609.04938) by the team at Stanford. The paper uses a CNN encoder and an LSTM decoder to convert images to latex markup. The paper uses a custom dataset of 400k images of mathematical equations. I'm using dataset from [latex.codecogs](https://latex.codecogs.com/) with 100k annotated images similar to the 100k dataset used in the paper.\n",
    "\n",
    "[More](https://im2markup.yuntiandeng.com/) about the paper can be found here\n"
   ]
  },
  {
   "cell_type": "markdown",
   "metadata": {},
   "source": [
    "## Training models\n",
    "\n",
    "If you just want to experiment with the trained model, you can skip this section and go to the next section.\n"
   ]
  },
  {
   "cell_type": "markdown",
   "metadata": {},
   "source": [
    "### Dataset\n",
    "\n",
    "The dataset used is from [latex.codecogs](https://latex.codecogs.com/) with 100k annotated images. I used a [script](utils\\download_dataset.py) to fetch and download the dataset images from links in the [dataset.json](dataset\\dataset.json) file"
   ]
  },
  {
   "cell_type": "markdown",
   "metadata": {},
   "source": [
    "### Preprocessing\n",
    "\n",
    "Since the images we'll be dealing with have a lot of white space (since we pass in math formulae images), we'll crop the images to include only the required part (the formula with black text on white background). We'll also resize the images to 256x256. The preprocessing script can be found [here](utils\\images_preprocessing.py). We'll also resize it to ensure that the images dont exceed the max size limits (`RESIZE_W = 1500, RESIZE_H = 175`)"
   ]
  },
  {
   "cell_type": "markdown",
   "metadata": {},
   "source": [
    "## Training\n",
    "\n",
    "The training script can be found [here](train_model.py). The script uses the [dataset](dataset\\dataset.json) to load the images and the corresponding latex markup. The model is a [CNN encoder](encoder.py) and an [LSTM decoder](decoder.py).\n",
    "\n",
    "The model can be trained by running `python train_model.py`\n"
   ]
  },
  {
   "cell_type": "markdown",
   "metadata": {},
   "source": [
    "## Results\n",
    "\n",
    "Since the preprocessing and training take too long, we made the training script save the model after every epoch. The saved models can be found [here](model_in_usage\\checkpoints). We can use the call_model.py script to load the model and run it on images. The script can be found [here](call_model.py). The script takes in the path to the image and the path to the saved model and outputs the predicted latex markup.\n",
    "\n",
    "Let's run this model on some images and see how it performs. The script to run the model on images can be found [here](Image2Latex.py). The script (mostly a CLI :)) takes in the path to the image and the path to the saved model and outputs the predicted latex markup.\n"
   ]
  },
  {
   "cell_type": "code",
   "execution_count": 20,
   "metadata": {},
   "outputs": [
    {
     "name": "stdout",
     "output_type": "stream",
     "text": [
      "Trying to catch model in d:\\school stuff\\sem5\\ArtificialIntelligence\\latex-gen\\model_in_usage\\...\n",
      "--Model checkpoints have been detected\n",
      "--Meta and Tokenizer files have been detected\n"
     ]
    },
    {
     "data": {
      "image/png": "[encoded data removed]",
      "text/plain": [
       "<IPython.core.display.Image object>"
      ]
     },
     "metadata": {},
     "output_type": "display_data"
    },
    {
     "name": "stdout",
     "output_type": "stream",
     "text": [
      "x _ { m l n } ^ { r } = x _ { m _ { l } } + A _ { m u } . \n"
     ]
    },
    {
     "data": {
      "text/latex": [
       "$\\displaystyle x _ { m l n } ^ { r } = x _ { m _ { l } } + A _ { m u } . $"
      ],
      "text/plain": [
       "<IPython.core.display.Math object>"
      ]
     },
     "metadata": {},
     "output_type": "display_data"
    }
   ],
   "source": [
    "# Run the model\n",
    "import os\n",
    "from Image2Latex import check_path, CHECKPOINTS_PATH, MODEL_PATH, META_PATH, TOKENIZER_PATH\n",
    "from call_model import predict\n",
    "from IPython.display import display, Math, Image\n",
    "\n",
    "\n",
    "path = check_path(os.path.abspath('.')) + MODEL_PATH\n",
    "print(f\"Trying to catch model in {path}...\")\n",
    "try:\n",
    "    if len(os.listdir(path + CHECKPOINTS_PATH)) > 1:\n",
    "        print(f\"--Model checkpoints have been detected\")\n",
    "    if all(os.path.exists(path + p) for p in [META_PATH, TOKENIZER_PATH]):\n",
    "        print(f\"--Meta and Tokenizer files have been detected\")\n",
    "except:\n",
    "        raise IOError(\"Model files are missing!\\nExpected in '{MODEL_PATH}' folder\")\n",
    "\n",
    "# The image\n",
    "img_path = input(\"Enter the path to the image: \")\n",
    "\n",
    "display(Image(filename=img_path))\n",
    "\n",
    "if not os.path.exists(img_path):\n",
    "    raise IOError(\"Image not found!\")\n",
    "\n",
    "result = predict(img_path, path + TOKENIZER_PATH, path + META_PATH, path + CHECKPOINTS_PATH)\n",
    "\n",
    "\n",
    "# Render the result\n",
    "display(Math(result))\n"
   ]
  }
 ],
 "metadata": {
  "kernelspec": {
   "display_name": ".venv",
   "language": "python",
   "name": "python3"
  },
  "language_info": {
   "codemirror_mode": {
    "name": "ipython",
    "version": 3
   },
   "file_extension": ".py",
   "mimetype": "text/x-python",
   "name": "python",
   "nbconvert_exporter": "python",
   "pygments_lexer": "ipython3",
   "version": "3.10.6"
  }
 },
 "nbformat": 4,
 "nbformat_minor": 2
}
